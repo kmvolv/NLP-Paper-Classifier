{
 "cells": [
  {
   "cell_type": "code",
   "execution_count": 1,
   "metadata": {},
   "outputs": [
    {
     "name": "stderr",
     "output_type": "stream",
     "text": [
      "c:\\Users\\rohai\\anaconda3\\envs\\dbalancer_env\\lib\\site-packages\\tqdm\\auto.py:21: TqdmWarning: IProgress not found. Please update jupyter and ipywidgets. See https://ipywidgets.readthedocs.io/en/stable/user_install.html\n",
      "  from .autonotebook import tqdm as notebook_tqdm\n"
     ]
    }
   ],
   "source": [
    "import ktrain\n",
    "import pandas as pd\n",
    "import numpy as np\n",
    "\n",
    "import re, os\n",
    "\n",
    "from nltk.corpus import stopwords\n",
    "from nltk.stem import PorterStemmer\n",
    "import nltk\n",
    "\n",
    "from sklearn.model_selection import train_test_split\n",
    "from tensorflow.keras.callbacks import EarlyStopping"
   ]
  },
  {
   "cell_type": "code",
   "execution_count": 2,
   "metadata": {},
   "outputs": [],
   "source": [
    "df = pd.read_csv(\"QTL_text.csv\")\n",
    "\n",
    "# rename category column as label\n",
    "df.rename(columns={'Category': 'label'}, inplace=True) \n",
    "\n",
    "# combine title and abstract into one column called text\n",
    "df['text'] = df['Title'] + ' ' + df['Abstract']\n",
    "\n",
    "# only keep label and text columns\n",
    "df = df[['label', 'text']]"
   ]
  },
  {
   "cell_type": "code",
   "execution_count": null,
   "metadata": {},
   "outputs": [],
   "source": [
    "# nltk.download(\"stopwords\")\n",
    "# stop_words = set(stopwords.words(\"english\"))\n",
    "# stemmer = PorterStemmer()\n",
    "\n",
    "# # Text cleaning function\n",
    "# def clean_text(text):\n",
    "#     text = text.lower()  # Convert to lowercase\n",
    "#     text = re.sub(r\"[^\\w\\s]\", \"\", text)  # Remove special characters\n",
    "#     text = re.sub(r\"\\s+\", \" \", text)  # Remove extra whitespace\n",
    "#     text = \" \".join([stemmer.stem(word) for word in text.split() if word not in stop_words])  # Remove stopwords and stem\n",
    "#     return text\n",
    "\n",
    "\n",
    "# df[\"Cleaned Text\"] = df[\"text\"].apply(clean_text)"
   ]
  },
  {
   "cell_type": "code",
   "execution_count": null,
   "metadata": {},
   "outputs": [],
   "source": [
    "# test_ratio = 0.2\n",
    "# train_ind, test_ind = train_test_split(df.index, test_size=test_ratio, shuffle=True, random_state=3)\n",
    "\n",
    "# train_df = df.loc[train_ind,:]\n",
    "# test_df = df.loc[test_ind,:]"
   ]
  },
  {
   "cell_type": "code",
   "execution_count": 3,
   "metadata": {},
   "outputs": [
    {
     "name": "stdout",
     "output_type": "stream",
     "text": [
      "preprocessing train...\n",
      "language: en\n",
      "train sequence lengths:\n",
      "\tmean : 261\n",
      "\t95percentile : 388\n",
      "\t99percentile : 449\n"
     ]
    },
    {
     "data": {
      "text/html": [
       "\n",
       "<style>\n",
       "    /* Turns off some styling */\n",
       "    progress {\n",
       "        /* gets rid of default border in Firefox and Opera. */\n",
       "        border: none;\n",
       "        /* Needs to be in here for Safari polyfill so background images work as expected. */\n",
       "        background-size: auto;\n",
       "    }\n",
       "    progress:not([value]), progress:not([value])::-webkit-progress-bar {\n",
       "        background: repeating-linear-gradient(45deg, #7e7e7e, #7e7e7e 10px, #5c5c5c 10px, #5c5c5c 20px);\n",
       "    }\n",
       "    .progress-bar-interrupted, .progress-bar-interrupted::-webkit-progress-bar {\n",
       "        background: #F44336;\n",
       "    }\n",
       "</style>\n"
      ],
      "text/plain": [
       "<IPython.core.display.HTML object>"
      ]
     },
     "metadata": {},
     "output_type": "display_data"
    },
    {
     "data": {
      "text/html": [],
      "text/plain": [
       "<IPython.core.display.HTML object>"
      ]
     },
     "metadata": {},
     "output_type": "display_data"
    },
    {
     "name": "stdout",
     "output_type": "stream",
     "text": [
      "Is Multi-Label? False\n",
      "preprocessing test...\n",
      "language: en\n",
      "test sequence lengths:\n",
      "\tmean : 247\n",
      "\t95percentile : 392\n",
      "\t99percentile : 514\n"
     ]
    },
    {
     "data": {
      "text/html": [
       "\n",
       "<style>\n",
       "    /* Turns off some styling */\n",
       "    progress {\n",
       "        /* gets rid of default border in Firefox and Opera. */\n",
       "        border: none;\n",
       "        /* Needs to be in here for Safari polyfill so background images work as expected. */\n",
       "        background-size: auto;\n",
       "    }\n",
       "    progress:not([value]), progress:not([value])::-webkit-progress-bar {\n",
       "        background: repeating-linear-gradient(45deg, #7e7e7e, #7e7e7e 10px, #5c5c5c 10px, #5c5c5c 20px);\n",
       "    }\n",
       "    .progress-bar-interrupted, .progress-bar-interrupted::-webkit-progress-bar {\n",
       "        background: #F44336;\n",
       "    }\n",
       "</style>\n"
      ],
      "text/plain": [
       "<IPython.core.display.HTML object>"
      ]
     },
     "metadata": {},
     "output_type": "display_data"
    },
    {
     "data": {
      "text/html": [],
      "text/plain": [
       "<IPython.core.display.HTML object>"
      ]
     },
     "metadata": {},
     "output_type": "display_data"
    },
    {
     "name": "stdout",
     "output_type": "stream",
     "text": [
      "task: text classification\n",
      "Is Multi-Label? False\n",
      "maxlen is 512\n",
      "done.\n"
     ]
    }
   ],
   "source": [
    "classes =  list(set(df.label))\n",
    "\n",
    "X_train, X_test, y_train, y_test = train_test_split(df.text, df.label, test_size=0.01, random_state=42, stratify=df.label)\n",
    "\n",
    "# Pre Processing \n",
    "trn, val, preproc = ktrain.text.texts_from_array(x_train=X_train.values, y_train=y_train.values,\n",
    "                                          x_test=X_test.values, y_test=y_test.values,\n",
    "                                                                   class_names=classes,\n",
    "                                                                   val_pct=0.1, \n",
    "                                                                   max_features=30000, \n",
    "                                                                   maxlen=512,\n",
    "                                                                   preprocess_mode='distilbert',\n",
    "                                                                   ngram_range=2)\n",
    "\n",
    "# Model \n",
    "model = ktrain.text.text_classifier('distilbert', train_data=trn, preproc=preproc)"
   ]
  },
  {
   "cell_type": "code",
   "execution_count": null,
   "metadata": {},
   "outputs": [
    {
     "name": "stdout",
     "output_type": "stream",
     "text": [
      "[0.54902636 5.59929789]\n",
      "{0: 0.5490263571990559, 1: 5.599297893681043}\n",
      "simulating training for different learning rates... this may take a few moments...\n",
      "Epoch 1/5\n",
      "5582/5582 [==============================] - 2177s 388ms/step - loss: 0.2964 - accuracy: 0.9127\n",
      "Epoch 2/5\n",
      "5582/5582 [==============================] - 2148s 385ms/step - loss: 0.1751 - accuracy: 0.9353\n",
      "Epoch 3/5\n",
      "5582/5582 [==============================] - 2104s 377ms/step - loss: 0.3614 - accuracy: 0.9081\n",
      "Epoch 4/5\n",
      "5582/5582 [==============================] - 179s 32ms/step - loss: 0.5517 - accuracy: 0.9029\n",
      "\n",
      "\n",
      "done.\n",
      "Visually inspect loss plot and select learning rate associated with falling loss\n"
     ]
    },
    {
     "data": {
      "image/png": "[encoded data removed]",
      "text/plain": [
       "<Figure size 640x480 with 1 Axes>"
      ]
     },
     "metadata": {},
     "output_type": "display_data"
    },
    {
     "name": "stdout",
     "output_type": "stream",
     "text": [
      "\n",
      "\n",
      "begin training using triangular learning rate policy with max lr of 2e-05...\n",
      "Epoch 1/10\n"
     ]
    },
    {
     "ename": "ResourceExhaustedError",
     "evalue": " failed to allocate memory\n\t [[node tf_distil_bert_for_sequence_classification_2/distilbert/transformer/layer_._3/output_layer_norm/batchnorm/mul_1\n (defined at c:\\Users\\rohai\\anaconda3\\envs\\dbalancer_env\\lib\\site-packages\\keras\\layers\\normalization\\layer_normalization.py:296)\n]]\nHint: If you want to see a list of allocated tensors when OOM happens, add report_tensor_allocations_upon_oom to RunOptions for current allocation info. This isn't available when running in Eager mode.\n [Op:__inference_train_function_150380]\n\nErrors may have originated from an input operation.\nInput Source operations connected to node tf_distil_bert_for_sequence_classification_2/distilbert/transformer/layer_._3/output_layer_norm/batchnorm/mul_1:\nIn[0] tf_distil_bert_for_sequence_classification_2/distilbert/transformer/layer_._3/add_1 (defined at c:\\Users\\rohai\\anaconda3\\envs\\dbalancer_env\\lib\\site-packages\\transformers\\models\\distilbert\\modeling_tf_distilbert.py:276)\t\nIn[1] tf_distil_bert_for_sequence_classification_2/distilbert/transformer/layer_._3/output_layer_norm/batchnorm/mul:\n\nOperation defined at: (most recent call last)\n>>>   File \"c:\\Users\\rohai\\anaconda3\\envs\\dbalancer_env\\lib\\runpy.py\", line 193, in _run_module_as_main\n>>>     \"__main__\", mod_spec)\n>>> \n>>>   File \"c:\\Users\\rohai\\anaconda3\\envs\\dbalancer_env\\lib\\runpy.py\", line 85, in _run_code\n>>>     exec(code, run_globals)\n>>> \n>>>   File \"c:\\Users\\rohai\\anaconda3\\envs\\dbalancer_env\\lib\\site-packages\\ipykernel_launcher.py\", line 17, in <module>\n>>>     app.launch_new_instance()\n>>> \n>>>   File \"c:\\Users\\rohai\\anaconda3\\envs\\dbalancer_env\\lib\\site-packages\\traitlets\\config\\application.py\", line 1043, in launch_instance\n>>>     app.start()\n>>> \n>>>   File \"c:\\Users\\rohai\\anaconda3\\envs\\dbalancer_env\\lib\\site-packages\\ipykernel\\kernelapp.py\", line 712, in start\n>>>     self.io_loop.start()\n>>> \n>>>   File \"c:\\Users\\rohai\\anaconda3\\envs\\dbalancer_env\\lib\\site-packages\\tornado\\platform\\asyncio.py\", line 215, in start\n>>>     self.asyncio_loop.run_forever()\n>>> \n>>>   File \"c:\\Users\\rohai\\anaconda3\\envs\\dbalancer_env\\lib\\asyncio\\base_events.py\", line 523, in run_forever\n>>>     self._run_once()\n>>> \n>>>   File \"c:\\Users\\rohai\\anaconda3\\envs\\dbalancer_env\\lib\\asyncio\\base_events.py\", line 1758, in _run_once\n>>>     handle._run()\n>>> \n>>>   File \"c:\\Users\\rohai\\anaconda3\\envs\\dbalancer_env\\lib\\asyncio\\events.py\", line 88, in _run\n>>>     self._context.run(self._callback, *self._args)\n>>> \n>>>   File \"c:\\Users\\rohai\\anaconda3\\envs\\dbalancer_env\\lib\\site-packages\\ipykernel\\kernelbase.py\", line 510, in dispatch_queue\n>>>     await self.process_one()\n>>> \n>>>   File \"c:\\Users\\rohai\\anaconda3\\envs\\dbalancer_env\\lib\\site-packages\\ipykernel\\kernelbase.py\", line 499, in process_one\n>>>     await dispatch(*args)\n>>> \n>>>   File \"c:\\Users\\rohai\\anaconda3\\envs\\dbalancer_env\\lib\\site-packages\\ipykernel\\kernelbase.py\", line 406, in dispatch_shell\n>>>     await result\n>>> \n>>>   File \"c:\\Users\\rohai\\anaconda3\\envs\\dbalancer_env\\lib\\site-packages\\ipykernel\\kernelbase.py\", line 730, in execute_request\n>>>     reply_content = await reply_content\n>>> \n>>>   File \"c:\\Users\\rohai\\anaconda3\\envs\\dbalancer_env\\lib\\site-packages\\ipykernel\\ipkernel.py\", line 387, in do_execute\n>>>     cell_id=cell_id,\n>>> \n>>>   File \"c:\\Users\\rohai\\anaconda3\\envs\\dbalancer_env\\lib\\site-packages\\ipykernel\\zmqshell.py\", line 528, in run_cell\n>>>     return super().run_cell(*args, **kwargs)\n>>> \n>>>   File \"c:\\Users\\rohai\\anaconda3\\envs\\dbalancer_env\\lib\\site-packages\\IPython\\core\\interactiveshell.py\", line 2975, in run_cell\n>>>     raw_cell, store_history, silent, shell_futures, cell_id\n>>> \n>>>   File \"c:\\Users\\rohai\\anaconda3\\envs\\dbalancer_env\\lib\\site-packages\\IPython\\core\\interactiveshell.py\", line 3029, in _run_cell\n>>>     return runner(coro)\n>>> \n>>>   File \"c:\\Users\\rohai\\anaconda3\\envs\\dbalancer_env\\lib\\site-packages\\IPython\\core\\async_helpers.py\", line 78, in _pseudo_sync_runner\n>>>     coro.send(None)\n>>> \n>>>   File \"c:\\Users\\rohai\\anaconda3\\envs\\dbalancer_env\\lib\\site-packages\\IPython\\core\\interactiveshell.py\", line 3257, in run_cell_async\n>>>     interactivity=interactivity, compiler=compiler, result=result)\n>>> \n>>>   File \"c:\\Users\\rohai\\anaconda3\\envs\\dbalancer_env\\lib\\site-packages\\IPython\\core\\interactiveshell.py\", line 3472, in run_ast_nodes\n>>>     if (await self.run_code(code, result,  async_=asy)):\n>>> \n>>>   File \"c:\\Users\\rohai\\anaconda3\\envs\\dbalancer_env\\lib\\site-packages\\IPython\\core\\interactiveshell.py\", line 3552, in run_code\n>>>     exec(code_obj, self.user_global_ns, self.user_ns)\n>>> \n>>>   File \"C:\\Users\\rohai\\AppData\\Local\\Temp\\ipykernel_23232\\787508892.py\", line 20, in <module>\n>>>     learner.autofit(2e-5, 10,class_weight = weights,callbacks=[EarlyStopping(monitor='val_loss', patience=3, min_delta=0.0001)])\n>>> \n>>>   File \"c:\\Users\\rohai\\anaconda3\\envs\\dbalancer_env\\lib\\site-packages\\ktrain\\core.py\", line 1247, in autofit\n>>>     steps_per_epoch=steps_per_epoch,\n>>> \n>>>   File \"c:\\Users\\rohai\\anaconda3\\envs\\dbalancer_env\\lib\\site-packages\\ktrain\\core.py\", line 1661, in fit\n>>>     callbacks=kcallbacks,\n>>> \n>>>   File \"c:\\Users\\rohai\\anaconda3\\envs\\dbalancer_env\\lib\\site-packages\\keras\\utils\\traceback_utils.py\", line 64, in error_handler\n>>>     return fn(*args, **kwargs)\n>>> \n>>>   File \"c:\\Users\\rohai\\anaconda3\\envs\\dbalancer_env\\lib\\site-packages\\keras\\engine\\training.py\", line 1216, in fit\n>>>     tmp_logs = self.train_function(iterator)\n>>> \n>>>   File \"c:\\Users\\rohai\\anaconda3\\envs\\dbalancer_env\\lib\\site-packages\\keras\\engine\\training.py\", line 878, in train_function\n>>>     return step_function(self, iterator)\n>>> \n>>>   File \"c:\\Users\\rohai\\anaconda3\\envs\\dbalancer_env\\lib\\site-packages\\keras\\engine\\training.py\", line 867, in step_function\n>>>     outputs = model.distribute_strategy.run(run_step, args=(data,))\n>>> \n>>>   File \"c:\\Users\\rohai\\anaconda3\\envs\\dbalancer_env\\lib\\site-packages\\keras\\engine\\training.py\", line 860, in run_step\n>>>     outputs = model.train_step(data)\n>>> \n>>>   File \"c:\\Users\\rohai\\anaconda3\\envs\\dbalancer_env\\lib\\site-packages\\keras\\engine\\training.py\", line 808, in train_step\n>>>     y_pred = self(x, training=True)\n>>> \n>>>   File \"c:\\Users\\rohai\\anaconda3\\envs\\dbalancer_env\\lib\\site-packages\\keras\\utils\\traceback_utils.py\", line 64, in error_handler\n>>>     return fn(*args, **kwargs)\n>>> \n>>>   File \"c:\\Users\\rohai\\anaconda3\\envs\\dbalancer_env\\lib\\site-packages\\keras\\engine\\base_layer.py\", line 1083, in __call__\n>>>     outputs = call_fn(inputs, *args, **kwargs)\n>>> \n>>>   File \"c:\\Users\\rohai\\anaconda3\\envs\\dbalancer_env\\lib\\site-packages\\keras\\utils\\traceback_utils.py\", line 92, in error_handler\n>>>     return fn(*args, **kwargs)\n>>> \n>>>   File \"c:\\Users\\rohai\\anaconda3\\envs\\dbalancer_env\\lib\\site-packages\\transformers\\models\\distilbert\\modeling_tf_distilbert.py\", line 800, in call\n>>>     distilbert_output = self.distilbert(\n>>> \n>>>   File \"c:\\Users\\rohai\\anaconda3\\envs\\dbalancer_env\\lib\\site-packages\\keras\\utils\\traceback_utils.py\", line 64, in error_handler\n>>>     return fn(*args, **kwargs)\n>>> \n>>>   File \"c:\\Users\\rohai\\anaconda3\\envs\\dbalancer_env\\lib\\site-packages\\keras\\engine\\base_layer.py\", line 1083, in __call__\n>>>     outputs = call_fn(inputs, *args, **kwargs)\n>>> \n>>>   File \"c:\\Users\\rohai\\anaconda3\\envs\\dbalancer_env\\lib\\site-packages\\keras\\utils\\traceback_utils.py\", line 92, in error_handler\n>>>     return fn(*args, **kwargs)\n>>> \n>>>   File \"c:\\Users\\rohai\\anaconda3\\envs\\dbalancer_env\\lib\\site-packages\\transformers\\models\\distilbert\\modeling_tf_distilbert.py\", line 418, in call\n>>>     tfmr_output = self.transformer(\n>>> \n>>>   File \"c:\\Users\\rohai\\anaconda3\\envs\\dbalancer_env\\lib\\site-packages\\keras\\utils\\traceback_utils.py\", line 64, in error_handler\n>>>     return fn(*args, **kwargs)\n>>> \n>>>   File \"c:\\Users\\rohai\\anaconda3\\envs\\dbalancer_env\\lib\\site-packages\\keras\\engine\\base_layer.py\", line 1083, in __call__\n>>>     outputs = call_fn(inputs, *args, **kwargs)\n>>> \n>>>   File \"c:\\Users\\rohai\\anaconda3\\envs\\dbalancer_env\\lib\\site-packages\\keras\\utils\\traceback_utils.py\", line 92, in error_handler\n>>>     return fn(*args, **kwargs)\n>>> \n>>>   File \"c:\\Users\\rohai\\anaconda3\\envs\\dbalancer_env\\lib\\site-packages\\transformers\\models\\distilbert\\modeling_tf_distilbert.py\", line 314, in call\n>>>     for i, layer_module in enumerate(self.layer):\n>>> \n>>>   File \"c:\\Users\\rohai\\anaconda3\\envs\\dbalancer_env\\lib\\site-packages\\transformers\\models\\distilbert\\modeling_tf_distilbert.py\", line 318, in call\n>>>     layer_outputs = layer_module(hidden_state, attn_mask, head_mask[i], output_attentions, training=training)\n>>> \n>>>   File \"c:\\Users\\rohai\\anaconda3\\envs\\dbalancer_env\\lib\\site-packages\\keras\\utils\\traceback_utils.py\", line 64, in error_handler\n>>>     return fn(*args, **kwargs)\n>>> \n>>>   File \"c:\\Users\\rohai\\anaconda3\\envs\\dbalancer_env\\lib\\site-packages\\keras\\engine\\base_layer.py\", line 1083, in __call__\n>>>     outputs = call_fn(inputs, *args, **kwargs)\n>>> \n>>>   File \"c:\\Users\\rohai\\anaconda3\\envs\\dbalancer_env\\lib\\site-packages\\keras\\utils\\traceback_utils.py\", line 92, in error_handler\n>>>     return fn(*args, **kwargs)\n>>> \n>>>   File \"c:\\Users\\rohai\\anaconda3\\envs\\dbalancer_env\\lib\\site-packages\\transformers\\models\\distilbert\\modeling_tf_distilbert.py\", line 276, in call\n>>>     ffn_output = self.output_layer_norm(ffn_output + sa_output)  # (bs, seq_length, dim)\n>>> \n>>>   File \"c:\\Users\\rohai\\anaconda3\\envs\\dbalancer_env\\lib\\site-packages\\keras\\utils\\traceback_utils.py\", line 64, in error_handler\n>>>     return fn(*args, **kwargs)\n>>> \n>>>   File \"c:\\Users\\rohai\\anaconda3\\envs\\dbalancer_env\\lib\\site-packages\\keras\\engine\\base_layer.py\", line 1083, in __call__\n>>>     outputs = call_fn(inputs, *args, **kwargs)\n>>> \n>>>   File \"c:\\Users\\rohai\\anaconda3\\envs\\dbalancer_env\\lib\\site-packages\\keras\\utils\\traceback_utils.py\", line 92, in error_handler\n>>>     return fn(*args, **kwargs)\n>>> \n>>>   File \"c:\\Users\\rohai\\anaconda3\\envs\\dbalancer_env\\lib\\site-packages\\keras\\layers\\normalization\\layer_normalization.py\", line 296, in call\n>>>     variance_epsilon=self.epsilon)\n>>> ",
     "output_type": "error",
     "traceback": [
      "\u001b[1;31m---------------------------------------------------------------------------\u001b[0m",
      "\u001b[1;31mResourceExhaustedError\u001b[0m                    Traceback (most recent call last)",
      "\u001b[1;32m~\\AppData\\Local\\Temp\\ipykernel_23232\\787508892.py\u001b[0m in \u001b[0;36m<module>\u001b[1;34m\u001b[0m\n\u001b[0;32m     18\u001b[0m \u001b[1;33m\u001b[0m\u001b[0m\n\u001b[0;32m     19\u001b[0m \u001b[1;31m# you can use the learning rate obtained and run for 3 epochs\u001b[0m\u001b[1;33m\u001b[0m\u001b[1;33m\u001b[0m\u001b[0m\n\u001b[1;32m---> 20\u001b[1;33m \u001b[0mlearner\u001b[0m\u001b[1;33m.\u001b[0m\u001b[0mautofit\u001b[0m\u001b[1;33m(\u001b[0m\u001b[1;36m2e-5\u001b[0m\u001b[1;33m,\u001b[0m \u001b[1;36m10\u001b[0m\u001b[1;33m,\u001b[0m\u001b[0mclass_weight\u001b[0m \u001b[1;33m=\u001b[0m \u001b[0mweights\u001b[0m\u001b[1;33m,\u001b[0m\u001b[0mcallbacks\u001b[0m\u001b[1;33m=\u001b[0m\u001b[1;33m[\u001b[0m\u001b[0mEarlyStopping\u001b[0m\u001b[1;33m(\u001b[0m\u001b[0mmonitor\u001b[0m\u001b[1;33m=\u001b[0m\u001b[1;34m'val_loss'\u001b[0m\u001b[1;33m,\u001b[0m \u001b[0mpatience\u001b[0m\u001b[1;33m=\u001b[0m\u001b[1;36m3\u001b[0m\u001b[1;33m,\u001b[0m \u001b[0mmin_delta\u001b[0m\u001b[1;33m=\u001b[0m\u001b[1;36m0.0001\u001b[0m\u001b[1;33m)\u001b[0m\u001b[1;33m]\u001b[0m\u001b[1;33m)\u001b[0m\u001b[1;33m\u001b[0m\u001b[0m\n\u001b[0m",
      "\u001b[1;32mc:\\Users\\rohai\\anaconda3\\envs\\dbalancer_env\\lib\\site-packages\\ktrain\\core.py\u001b[0m in \u001b[0;36mautofit\u001b[1;34m(self, lr, epochs, early_stopping, reduce_on_plateau, reduce_factor, cycle_momentum, max_momentum, min_momentum, monitor, checkpoint_folder, class_weight, callbacks, steps_per_epoch, verbose)\u001b[0m\n\u001b[0;32m   1245\u001b[0m             \u001b[0mclass_weight\u001b[0m\u001b[1;33m=\u001b[0m\u001b[0mclass_weight\u001b[0m\u001b[1;33m,\u001b[0m\u001b[1;33m\u001b[0m\u001b[0m\n\u001b[0;32m   1246\u001b[0m             \u001b[0mcallbacks\u001b[0m\u001b[1;33m=\u001b[0m\u001b[0mkcallbacks\u001b[0m\u001b[1;33m,\u001b[0m\u001b[1;33m\u001b[0m\u001b[0m\n\u001b[1;32m-> 1247\u001b[1;33m             \u001b[0msteps_per_epoch\u001b[0m\u001b[1;33m=\u001b[0m\u001b[0msteps_per_epoch\u001b[0m\u001b[1;33m,\u001b[0m\u001b[1;33m\u001b[0m\u001b[0m\n\u001b[0m\u001b[0;32m   1248\u001b[0m         )\n\u001b[0;32m   1249\u001b[0m         \u001b[0mhist\u001b[0m\u001b[1;33m.\u001b[0m\u001b[0mhistory\u001b[0m\u001b[1;33m[\u001b[0m\u001b[1;34m\"lr\"\u001b[0m\u001b[1;33m]\u001b[0m \u001b[1;33m=\u001b[0m \u001b[0mclr\u001b[0m\u001b[1;33m.\u001b[0m\u001b[0mhistory\u001b[0m\u001b[1;33m[\u001b[0m\u001b[1;34m\"lr\"\u001b[0m\u001b[1;33m]\u001b[0m\u001b[1;33m\u001b[0m\u001b[0m\n",
      "\u001b[1;32mc:\\Users\\rohai\\anaconda3\\envs\\dbalancer_env\\lib\\site-packages\\ktrain\\core.py\u001b[0m in \u001b[0;36mfit\u001b[1;34m(self, lr, n_cycles, cycle_len, cycle_mult, lr_decay, checkpoint_folder, early_stopping, class_weight, callbacks, steps_per_epoch, verbose)\u001b[0m\n\u001b[0;32m   1659\u001b[0m                 \u001b[0mshuffle\u001b[0m\u001b[1;33m=\u001b[0m\u001b[1;32mTrue\u001b[0m\u001b[1;33m,\u001b[0m\u001b[1;33m\u001b[0m\u001b[0m\n\u001b[0;32m   1660\u001b[0m                 \u001b[0mclass_weight\u001b[0m\u001b[1;33m=\u001b[0m\u001b[0mclass_weight\u001b[0m\u001b[1;33m,\u001b[0m\u001b[1;33m\u001b[0m\u001b[0m\n\u001b[1;32m-> 1661\u001b[1;33m                 \u001b[0mcallbacks\u001b[0m\u001b[1;33m=\u001b[0m\u001b[0mkcallbacks\u001b[0m\u001b[1;33m,\u001b[0m\u001b[1;33m\u001b[0m\u001b[0m\n\u001b[0m\u001b[0;32m   1662\u001b[0m             )\n\u001b[0;32m   1663\u001b[0m         \u001b[1;32mif\u001b[0m \u001b[0msgdr\u001b[0m \u001b[1;32mis\u001b[0m \u001b[1;32mnot\u001b[0m \u001b[1;32mNone\u001b[0m\u001b[1;33m:\u001b[0m\u001b[1;33m\u001b[0m\u001b[0m\n",
      "\u001b[1;32mc:\\Users\\rohai\\anaconda3\\envs\\dbalancer_env\\lib\\site-packages\\keras\\utils\\traceback_utils.py\u001b[0m in \u001b[0;36merror_handler\u001b[1;34m(*args, **kwargs)\u001b[0m\n\u001b[0;32m     65\u001b[0m     \u001b[1;32mexcept\u001b[0m \u001b[0mException\u001b[0m \u001b[1;32mas\u001b[0m \u001b[0me\u001b[0m\u001b[1;33m:\u001b[0m  \u001b[1;31m# pylint: disable=broad-except\u001b[0m\u001b[1;33m\u001b[0m\u001b[0m\n\u001b[0;32m     66\u001b[0m       \u001b[0mfiltered_tb\u001b[0m \u001b[1;33m=\u001b[0m \u001b[0m_process_traceback_frames\u001b[0m\u001b[1;33m(\u001b[0m\u001b[0me\u001b[0m\u001b[1;33m.\u001b[0m\u001b[0m__traceback__\u001b[0m\u001b[1;33m)\u001b[0m\u001b[1;33m\u001b[0m\u001b[0m\n\u001b[1;32m---> 67\u001b[1;33m       \u001b[1;32mraise\u001b[0m \u001b[0me\u001b[0m\u001b[1;33m.\u001b[0m\u001b[0mwith_traceback\u001b[0m\u001b[1;33m(\u001b[0m\u001b[0mfiltered_tb\u001b[0m\u001b[1;33m)\u001b[0m \u001b[1;32mfrom\u001b[0m \u001b[1;32mNone\u001b[0m\u001b[1;33m\u001b[0m\u001b[0m\n\u001b[0m\u001b[0;32m     68\u001b[0m     \u001b[1;32mfinally\u001b[0m\u001b[1;33m:\u001b[0m\u001b[1;33m\u001b[0m\u001b[0m\n\u001b[0;32m     69\u001b[0m       \u001b[1;32mdel\u001b[0m \u001b[0mfiltered_tb\u001b[0m\u001b[1;33m\u001b[0m\u001b[0m\n",
      "\u001b[1;32mc:\\Users\\rohai\\anaconda3\\envs\\dbalancer_env\\lib\\site-packages\\tensorflow\\python\\eager\\execute.py\u001b[0m in \u001b[0;36mquick_execute\u001b[1;34m(op_name, num_outputs, inputs, attrs, ctx, name)\u001b[0m\n\u001b[0;32m     57\u001b[0m     \u001b[0mctx\u001b[0m\u001b[1;33m.\u001b[0m\u001b[0mensure_initialized\u001b[0m\u001b[1;33m(\u001b[0m\u001b[1;33m)\u001b[0m\u001b[1;33m\u001b[0m\u001b[0m\n\u001b[0;32m     58\u001b[0m     tensors = pywrap_tfe.TFE_Py_Execute(ctx._handle, device_name, op_name,\n\u001b[1;32m---> 59\u001b[1;33m                                         inputs, attrs, num_outputs)\n\u001b[0m\u001b[0;32m     60\u001b[0m   \u001b[1;32mexcept\u001b[0m \u001b[0mcore\u001b[0m\u001b[1;33m.\u001b[0m\u001b[0m_NotOkStatusException\u001b[0m \u001b[1;32mas\u001b[0m \u001b[0me\u001b[0m\u001b[1;33m:\u001b[0m\u001b[1;33m\u001b[0m\u001b[0m\n\u001b[0;32m     61\u001b[0m     \u001b[1;32mif\u001b[0m \u001b[0mname\u001b[0m \u001b[1;32mis\u001b[0m \u001b[1;32mnot\u001b[0m \u001b[1;32mNone\u001b[0m\u001b[1;33m:\u001b[0m\u001b[1;33m\u001b[0m\u001b[0m\n",
      "\u001b[1;31mResourceExhaustedError\u001b[0m:  failed to allocate memory\n\t [[node tf_distil_bert_for_sequence_classification_2/distilbert/transformer/layer_._3/output_layer_norm/batchnorm/mul_1\n (defined at c:\\Users\\rohai\\anaconda3\\envs\\dbalancer_env\\lib\\site-packages\\keras\\layers\\normalization\\layer_normalization.py:296)\n]]\nHint: If you want to see a list of allocated tensors when OOM happens, add report_tensor_allocations_upon_oom to RunOptions for current allocation info. This isn't available when running in Eager mode.\n [Op:__inference_train_function_150380]\n\nErrors may have originated from an input operation.\nInput Source operations connected to node tf_distil_bert_for_sequence_classification_2/distilbert/transformer/layer_._3/output_layer_norm/batchnorm/mul_1:\nIn[0] tf_distil_bert_for_sequence_classification_2/distilbert/transformer/layer_._3/add_1 (defined at c:\\Users\\rohai\\anaconda3\\envs\\dbalancer_env\\lib\\site-packages\\transformers\\models\\distilbert\\modeling_tf_distilbert.py:276)\t\nIn[1] tf_distil_bert_for_sequence_classification_2/distilbert/transformer/layer_._3/output_layer_norm/batchnorm/mul:\n\nOperation defined at: (most recent call last)\n>>>   File \"c:\\Users\\rohai\\anaconda3\\envs\\dbalancer_env\\lib\\runpy.py\", line 193, in _run_module_as_main\n>>>     \"__main__\", mod_spec)\n>>> \n>>>   File \"c:\\Users\\rohai\\anaconda3\\envs\\dbalancer_env\\lib\\runpy.py\", line 85, in _run_code\n>>>     exec(code, run_globals)\n>>> \n>>>   File \"c:\\Users\\rohai\\anaconda3\\envs\\dbalancer_env\\lib\\site-packages\\ipykernel_launcher.py\", line 17, in <module>\n>>>     app.launch_new_instance()\n>>> \n>>>   File \"c:\\Users\\rohai\\anaconda3\\envs\\dbalancer_env\\lib\\site-packages\\traitlets\\config\\application.py\", line 1043, in launch_instance\n>>>     app.start()\n>>> \n>>>   File \"c:\\Users\\rohai\\anaconda3\\envs\\dbalancer_env\\lib\\site-packages\\ipykernel\\kernelapp.py\", line 712, in start\n>>>     self.io_loop.start()\n>>> \n>>>   File \"c:\\Users\\rohai\\anaconda3\\envs\\dbalancer_env\\lib\\site-packages\\tornado\\platform\\asyncio.py\", line 215, in start\n>>>     self.asyncio_loop.run_forever()\n>>> \n>>>   File \"c:\\Users\\rohai\\anaconda3\\envs\\dbalancer_env\\lib\\asyncio\\base_events.py\", line 523, in run_forever\n>>>     self._run_once()\n>>> \n>>>   File \"c:\\Users\\rohai\\anaconda3\\envs\\dbalancer_env\\lib\\asyncio\\base_events.py\", line 1758, in _run_once\n>>>     handle._run()\n>>> \n>>>   File \"c:\\Users\\rohai\\anaconda3\\envs\\dbalancer_env\\lib\\asyncio\\events.py\", line 88, in _run\n>>>     self._context.run(self._callback, *self._args)\n>>> \n>>>   File \"c:\\Users\\rohai\\anaconda3\\envs\\dbalancer_env\\lib\\site-packages\\ipykernel\\kernelbase.py\", line 510, in dispatch_queue\n>>>     await self.process_one()\n>>> \n>>>   File \"c:\\Users\\rohai\\anaconda3\\envs\\dbalancer_env\\lib\\site-packages\\ipykernel\\kernelbase.py\", line 499, in process_one\n>>>     await dispatch(*args)\n>>> \n>>>   File \"c:\\Users\\rohai\\anaconda3\\envs\\dbalancer_env\\lib\\site-packages\\ipykernel\\kernelbase.py\", line 406, in dispatch_shell\n>>>     await result\n>>> \n>>>   File \"c:\\Users\\rohai\\anaconda3\\envs\\dbalancer_env\\lib\\site-packages\\ipykernel\\kernelbase.py\", line 730, in execute_request\n>>>     reply_content = await reply_content\n>>> \n>>>   File \"c:\\Users\\rohai\\anaconda3\\envs\\dbalancer_env\\lib\\site-packages\\ipykernel\\ipkernel.py\", line 387, in do_execute\n>>>     cell_id=cell_id,\n>>> \n>>>   File \"c:\\Users\\rohai\\anaconda3\\envs\\dbalancer_env\\lib\\site-packages\\ipykernel\\zmqshell.py\", line 528, in run_cell\n>>>     return super().run_cell(*args, **kwargs)\n>>> \n>>>   File \"c:\\Users\\rohai\\anaconda3\\envs\\dbalancer_env\\lib\\site-packages\\IPython\\core\\interactiveshell.py\", line 2975, in run_cell\n>>>     raw_cell, store_history, silent, shell_futures, cell_id\n>>> \n>>>   File \"c:\\Users\\rohai\\anaconda3\\envs\\dbalancer_env\\lib\\site-packages\\IPython\\core\\interactiveshell.py\", line 3029, in _run_cell\n>>>     return runner(coro)\n>>> \n>>>   File \"c:\\Users\\rohai\\anaconda3\\envs\\dbalancer_env\\lib\\site-packages\\IPython\\core\\async_helpers.py\", line 78, in _pseudo_sync_runner\n>>>     coro.send(None)\n>>> \n>>>   File \"c:\\Users\\rohai\\anaconda3\\envs\\dbalancer_env\\lib\\site-packages\\IPython\\core\\interactiveshell.py\", line 3257, in run_cell_async\n>>>     interactivity=interactivity, compiler=compiler, result=result)\n>>> \n>>>   File \"c:\\Users\\rohai\\anaconda3\\envs\\dbalancer_env\\lib\\site-packages\\IPython\\core\\interactiveshell.py\", line 3472, in run_ast_nodes\n>>>     if (await self.run_code(code, result,  async_=asy)):\n>>> \n>>>   File \"c:\\Users\\rohai\\anaconda3\\envs\\dbalancer_env\\lib\\site-packages\\IPython\\core\\interactiveshell.py\", line 3552, in run_code\n>>>     exec(code_obj, self.user_global_ns, self.user_ns)\n>>> \n>>>   File \"C:\\Users\\rohai\\AppData\\Local\\Temp\\ipykernel_23232\\787508892.py\", line 20, in <module>\n>>>     learner.autofit(2e-5, 10,class_weight = weights,callbacks=[EarlyStopping(monitor='val_loss', patience=3, min_delta=0.0001)])\n>>> \n>>>   File \"c:\\Users\\rohai\\anaconda3\\envs\\dbalancer_env\\lib\\site-packages\\ktrain\\core.py\", line 1247, in autofit\n>>>     steps_per_epoch=steps_per_epoch,\n>>> \n>>>   File \"c:\\Users\\rohai\\anaconda3\\envs\\dbalancer_env\\lib\\site-packages\\ktrain\\core.py\", line 1661, in fit\n>>>     callbacks=kcallbacks,\n>>> \n>>>   File \"c:\\Users\\rohai\\anaconda3\\envs\\dbalancer_env\\lib\\site-packages\\keras\\utils\\traceback_utils.py\", line 64, in error_handler\n>>>     return fn(*args, **kwargs)\n>>> \n>>>   File \"c:\\Users\\rohai\\anaconda3\\envs\\dbalancer_env\\lib\\site-packages\\keras\\engine\\training.py\", line 1216, in fit\n>>>     tmp_logs = self.train_function(iterator)\n>>> \n>>>   File \"c:\\Users\\rohai\\anaconda3\\envs\\dbalancer_env\\lib\\site-packages\\keras\\engine\\training.py\", line 878, in train_function\n>>>     return step_function(self, iterator)\n>>> \n>>>   File \"c:\\Users\\rohai\\anaconda3\\envs\\dbalancer_env\\lib\\site-packages\\keras\\engine\\training.py\", line 867, in step_function\n>>>     outputs = model.distribute_strategy.run(run_step, args=(data,))\n>>> \n>>>   File \"c:\\Users\\rohai\\anaconda3\\envs\\dbalancer_env\\lib\\site-packages\\keras\\engine\\training.py\", line 860, in run_step\n>>>     outputs = model.train_step(data)\n>>> \n>>>   File \"c:\\Users\\rohai\\anaconda3\\envs\\dbalancer_env\\lib\\site-packages\\keras\\engine\\training.py\", line 808, in train_step\n>>>     y_pred = self(x, training=True)\n>>> \n>>>   File \"c:\\Users\\rohai\\anaconda3\\envs\\dbalancer_env\\lib\\site-packages\\keras\\utils\\traceback_utils.py\", line 64, in error_handler\n>>>     return fn(*args, **kwargs)\n>>> \n>>>   File \"c:\\Users\\rohai\\anaconda3\\envs\\dbalancer_env\\lib\\site-packages\\keras\\engine\\base_layer.py\", line 1083, in __call__\n>>>     outputs = call_fn(inputs, *args, **kwargs)\n>>> \n>>>   File \"c:\\Users\\rohai\\anaconda3\\envs\\dbalancer_env\\lib\\site-packages\\keras\\utils\\traceback_utils.py\", line 92, in error_handler\n>>>     return fn(*args, **kwargs)\n>>> \n>>>   File \"c:\\Users\\rohai\\anaconda3\\envs\\dbalancer_env\\lib\\site-packages\\transformers\\models\\distilbert\\modeling_tf_distilbert.py\", line 800, in call\n>>>     distilbert_output = self.distilbert(\n>>> \n>>>   File \"c:\\Users\\rohai\\anaconda3\\envs\\dbalancer_env\\lib\\site-packages\\keras\\utils\\traceback_utils.py\", line 64, in error_handler\n>>>     return fn(*args, **kwargs)\n>>> \n>>>   File \"c:\\Users\\rohai\\anaconda3\\envs\\dbalancer_env\\lib\\site-packages\\keras\\engine\\base_layer.py\", line 1083, in __call__\n>>>     outputs = call_fn(inputs, *args, **kwargs)\n>>> \n>>>   File \"c:\\Users\\rohai\\anaconda3\\envs\\dbalancer_env\\lib\\site-packages\\keras\\utils\\traceback_utils.py\", line 92, in error_handler\n>>>     return fn(*args, **kwargs)\n>>> \n>>>   File \"c:\\Users\\rohai\\anaconda3\\envs\\dbalancer_env\\lib\\site-packages\\transformers\\models\\distilbert\\modeling_tf_distilbert.py\", line 418, in call\n>>>     tfmr_output = self.transformer(\n>>> \n>>>   File \"c:\\Users\\rohai\\anaconda3\\envs\\dbalancer_env\\lib\\site-packages\\keras\\utils\\traceback_utils.py\", line 64, in error_handler\n>>>     return fn(*args, **kwargs)\n>>> \n>>>   File \"c:\\Users\\rohai\\anaconda3\\envs\\dbalancer_env\\lib\\site-packages\\keras\\engine\\base_layer.py\", line 1083, in __call__\n>>>     outputs = call_fn(inputs, *args, **kwargs)\n>>> \n>>>   File \"c:\\Users\\rohai\\anaconda3\\envs\\dbalancer_env\\lib\\site-packages\\keras\\utils\\traceback_utils.py\", line 92, in error_handler\n>>>     return fn(*args, **kwargs)\n>>> \n>>>   File \"c:\\Users\\rohai\\anaconda3\\envs\\dbalancer_env\\lib\\site-packages\\transformers\\models\\distilbert\\modeling_tf_distilbert.py\", line 314, in call\n>>>     for i, layer_module in enumerate(self.layer):\n>>> \n>>>   File \"c:\\Users\\rohai\\anaconda3\\envs\\dbalancer_env\\lib\\site-packages\\transformers\\models\\distilbert\\modeling_tf_distilbert.py\", line 318, in call\n>>>     layer_outputs = layer_module(hidden_state, attn_mask, head_mask[i], output_attentions, training=training)\n>>> \n>>>   File \"c:\\Users\\rohai\\anaconda3\\envs\\dbalancer_env\\lib\\site-packages\\keras\\utils\\traceback_utils.py\", line 64, in error_handler\n>>>     return fn(*args, **kwargs)\n>>> \n>>>   File \"c:\\Users\\rohai\\anaconda3\\envs\\dbalancer_env\\lib\\site-packages\\keras\\engine\\base_layer.py\", line 1083, in __call__\n>>>     outputs = call_fn(inputs, *args, **kwargs)\n>>> \n>>>   File \"c:\\Users\\rohai\\anaconda3\\envs\\dbalancer_env\\lib\\site-packages\\keras\\utils\\traceback_utils.py\", line 92, in error_handler\n>>>     return fn(*args, **kwargs)\n>>> \n>>>   File \"c:\\Users\\rohai\\anaconda3\\envs\\dbalancer_env\\lib\\site-packages\\transformers\\models\\distilbert\\modeling_tf_distilbert.py\", line 276, in call\n>>>     ffn_output = self.output_layer_norm(ffn_output + sa_output)  # (bs, seq_length, dim)\n>>> \n>>>   File \"c:\\Users\\rohai\\anaconda3\\envs\\dbalancer_env\\lib\\site-packages\\keras\\utils\\traceback_utils.py\", line 64, in error_handler\n>>>     return fn(*args, **kwargs)\n>>> \n>>>   File \"c:\\Users\\rohai\\anaconda3\\envs\\dbalancer_env\\lib\\site-packages\\keras\\engine\\base_layer.py\", line 1083, in __call__\n>>>     outputs = call_fn(inputs, *args, **kwargs)\n>>> \n>>>   File \"c:\\Users\\rohai\\anaconda3\\envs\\dbalancer_env\\lib\\site-packages\\keras\\utils\\traceback_utils.py\", line 92, in error_handler\n>>>     return fn(*args, **kwargs)\n>>> \n>>>   File \"c:\\Users\\rohai\\anaconda3\\envs\\dbalancer_env\\lib\\site-packages\\keras\\layers\\normalization\\layer_normalization.py\", line 296, in call\n>>>     variance_epsilon=self.epsilon)\n>>> "
     ]
    }
   ],
   "source": [
    "# Handling class imbalance\n",
    "from sklearn.utils import class_weight\n",
    "class_weights = class_weight.compute_class_weight(class_weight='balanced', classes=np.unique(df.label), y=y_train)\n",
    "print(class_weights)\n",
    "\n",
    "weights={}\n",
    "for index, weight in enumerate(class_weights) :\n",
    "  weights[index]=weight\n",
    "\n",
    "print(weights)\n",
    "\n",
    "# Applying the weights\n",
    "\n",
    "learner =  ktrain.get_learner(model, train_data=trn, val_data=val,batch_size=2)\n",
    "\n",
    "# you can find the learning rate\n",
    "learner.lr_find(show_plot=True,max_epochs=5)\n",
    "\n",
    "# you can use the learning rate obtained and run for 3 epochs\n",
    "learner.autofit(2e-5, 10,class_weight = weights,callbacks=[EarlyStopping(monitor='val_loss', patience=3, min_delta=0.0001)])"
   ]
  },
  {
   "cell_type": "code",
   "execution_count": null,
   "metadata": {},
   "outputs": [],
   "source": [
    "# Test the result (You can use this to compare the results, before and after applying weights)\n",
    "learner.validate()\n",
    "\n",
    "# Save your model\n",
    "\n",
    "learner.save_model('mymodel')\n",
    "predictor = ktrain.get_predictor(learner.model, preproc)\n",
    "predictor.save('mymodel')\n",
    "\n",
    "# Make predictions\n",
    "\n",
    "predictor.predict(\"\"\"Insert your text to predict\"\"\")"
   ]
  }
 ],
 "metadata": {
  "kernelspec": {
   "display_name": "dbalancer_env",
   "language": "python",
   "name": "python3"
  },
  "language_info": {
   "codemirror_mode": {
    "name": "ipython",
    "version": 3
   },
   "file_extension": ".py",
   "mimetype": "text/x-python",
   "name": "python",
   "nbconvert_exporter": "python",
   "pygments_lexer": "ipython3",
   "version": "3.7.0"
  }
 },
 "nbformat": 4,
 "nbformat_minor": 2
}
